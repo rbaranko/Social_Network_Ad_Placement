{
 "cells": [
  {
   "cell_type": "markdown",
   "metadata": {},
   "source": [
    "# Marketing Network Project\n",
    "\n",
    "Data: 'friendships.gml' | University of Michigan School of Information\n",
    "\n",
    "This project takes data from a network of friends on a social network media site that has been given to a business to analyze to best tailor its marketing practices to. The company wants to offer discount vouchers to select customers who can share vouchers in their network.  The following assumptions apply:\n",
    "- The voucher can only be shared by the original node (not by any of the off shoots)\n",
    "- Want the voucher to reach as many nodes as possible"
   ]
  },
  {
   "cell_type": "code",
   "execution_count": 1,
   "metadata": {},
   "outputs": [
    {
     "name": "stdout",
     "output_type": "stream",
     "text": [
      "Total Network has 1133 people\n"
     ]
    }
   ],
   "source": [
    "import networkx as nx\n",
    "\n",
    "G1 = nx.read_gml('friendships.gml')\n",
    "n = len(G1.nodes())\n",
    "print('Total Network has {} people'.format(n))"
   ]
  },
  {
   "cell_type": "markdown",
   "metadata": {},
   "source": [
    "Find the node that is most central and connects to as many nodes as possible"
   ]
  },
  {
   "cell_type": "code",
   "execution_count": 2,
   "metadata": {},
   "outputs": [
    {
     "name": "stdout",
     "output_type": "stream",
     "text": [
      "Node number 105 is the best candidate\n"
     ]
    }
   ],
   "source": [
    "def most_edges():\n",
    "    degree = nx.degree_centrality(G1)\n",
    "    return max(degree.keys(), key=lambda x:degree[x])\n",
    "n = most_edges()\n",
    "print('Node number {} is the best candidate'.format(n))"
   ]
  },
  {
   "cell_type": "markdown",
   "metadata": {},
   "source": [
    "If we change assumption #1 and vouchers can be shared by all nodes and not just the original node, what node is our best candidate? Because the network is connected, regardless of who we pick, every node in the network will eventually receive the voucher. However, we now want to ensure that the voucher reaches the nodes in the lowest average number of hops since the probability of sharing the voucher declines with each node the voucher is shared to."
   ]
  },
  {
   "cell_type": "code",
   "execution_count": 3,
   "metadata": {},
   "outputs": [
    {
     "name": "stdout",
     "output_type": "stream",
     "text": [
      "Node number 23 is the best candidate\n"
     ]
    }
   ],
   "source": [
    "def most_edges2():\n",
    "    closeness = nx.closeness_centrality(G1)\n",
    "    return max(closeness.keys(), key=lambda x:closeness[x])\n",
    "N = most_edges2()\n",
    "print('Node number {} is the best candidate'.format(N))"
   ]
  },
  {
   "cell_type": "markdown",
   "metadata": {},
   "source": [
    "Assume the restriction on the voucher’s travel distance is still removed, but now a competitor has developed a strategy to remove a person from the network in order to disrupt the distribution of the company’s voucher. The competitor is specifically targeting people who are often bridges of information flow between other pairs of people. \n",
    "\n",
    "The next step is to find single riskiest person to our companies voucher distribution model."
   ]
  },
  {
   "cell_type": "code",
   "execution_count": 4,
   "metadata": {},
   "outputs": [
    {
     "name": "stdout",
     "output_type": "stream",
     "text": [
      "Node number 333 is the most disruptive person in the model if removed\n"
     ]
    }
   ],
   "source": [
    "def risk():\n",
    "    btw = nx.betweenness_centrality(G1)\n",
    "    return max(btw.keys(), key=lambda x:btw[x]) # riskiest person identifed as the node who has the most information flowed through it\n",
    "r = risk()\n",
    "print('Node number {} is the most disruptive person in the model if removed'.format(r))"
   ]
  },
  {
   "cell_type": "code",
   "execution_count": null,
   "metadata": {},
   "outputs": [],
   "source": []
  }
 ],
 "metadata": {
  "kernelspec": {
   "display_name": "Python 3",
   "language": "python",
   "name": "python3"
  },
  "language_info": {
   "codemirror_mode": {
    "name": "ipython",
    "version": 3
   },
   "file_extension": ".py",
   "mimetype": "text/x-python",
   "name": "python",
   "nbconvert_exporter": "python",
   "pygments_lexer": "ipython3",
   "version": "3.7.4"
  }
 },
 "nbformat": 4,
 "nbformat_minor": 2
}
